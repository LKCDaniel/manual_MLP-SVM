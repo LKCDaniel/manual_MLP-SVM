{
 "cells": [
  {
   "cell_type": "markdown",
   "id": "4423c7c7",
   "metadata": {},
   "source": [
    "# 🧱 INT304 Support Vector Machine (SVM)\n",
    "\n",
    "The **Support Vector Machine (SVM)** is a powerful supervised learning model that finds the optimal hyperplane separating data from different classes with the **maximum margin**.\n",
    "\n",
    "SVM works well in high-dimensional spaces and is effective when the number of features exceeds the number of samples.\n",
    "\n",
    "#### 📐 Objective Function\n",
    "\n",
    "For linearly separable data, SVM solves:\n",
    "\n",
    "$$\n",
    "\\min_{w, b} \\quad \\frac{1}{2} \\|w\\|^2 \\quad \\text{subject to } \\quad y_i(w^T x_i + b) \\geq 1\n",
    "$$\n",
    "\n",
    "This maximizes the margin between classes while ensuring correct classification.\n",
    "\n",
    "#### 🧠 Kernels\n",
    "\n",
    "To handle non-linearly separable data, SVM uses **kernel functions** to map input data into a higher-dimensional space. Common kernels:\n",
    "\n",
    "- `'linear'`: $K(x_i, x_j) = x_i^T x_j$\n",
    "- `'poly'`: $K(x_i, x_j) = (\\gamma x_i^T x_j + r)^d$\n",
    "- `'rbf'`: $K(x_i, x_j) = \\exp(-\\gamma \\|x_i - x_j\\|^2)$\n",
    "- `'sigmoid'`: $K(x_i, x_j) = \\tanh(\\gamma x_i^T x_j + r)$\n",
    "\n",
    "We will use `sklearn`'s `SVC` (Support Vector Classifier) to implement SVM efficiently."
   ]
  },
  {
   "cell_type": "markdown",
   "id": "10250658",
   "metadata": {},
   "source": [
    "---"
   ]
  },
  {
   "cell_type": "markdown",
   "id": "0f8b045f",
   "metadata": {},
   "source": [
    "## sklearn.svm.SVC"
   ]
  },
  {
   "cell_type": "code",
   "id": "28b9e8e5",
   "metadata": {
    "ExecuteTime": {
     "end_time": "2025-05-07T12:45:12.614983Z",
     "start_time": "2025-05-07T12:45:12.441056Z"
    }
   },
   "source": [
    "# import necessary libs\n",
    "from sklearn.datasets import load_digits\n",
    "from sklearn import svm, metrics\n",
    "from sklearn.model_selection import train_test_split\n",
    "import numpy as np\n",
    "import matplotlib.pyplot as plt"
   ],
   "outputs": [],
   "execution_count": 4
  },
  {
   "cell_type": "code",
   "id": "0f4d4d6a",
   "metadata": {
    "ExecuteTime": {
     "end_time": "2025-05-07T12:46:40.615329Z",
     "start_time": "2025-05-07T12:45:14.516773Z"
    }
   },
   "source": [
    "# Load dataset\n",
    "digits = load_digits()\n",
    "X, y = digits.data, digits.target\n",
    "\n",
    "# Show first few samples\n",
    "fig, axes = plt.subplots(1, 5, figsize=(10, 2))\n",
    "for i, ax in enumerate(axes):\n",
    "    ax.imshow(digits.images[i], cmap='gray')\n",
    "    ax.set_title(f\"Label: {digits.target[i]}\")\n",
    "    ax.axis('off')\n",
    "plt.tight_layout()\n",
    "plt.show()\n",
    "\n",
    "# Split into train/test\n",
    "X_train, X_test, y_train, y_test = train_test_split(X, y, test_size=1/7, random_state=42)\n",
    "\n",
    "# Train SVM\n",
    "clf = svm.SVC(kernel='linear')  # You may want to tune kernel, C, gamma\n",
    "clf.fit(X_train, y_train)\n",
    "\n",
    "# Predict & Evaluate\n",
    "y_pred = clf.predict(X_test)\n",
    "print(\"Accuracy:\", metrics.accuracy_score(y_test, y_pred))"
   ],
   "outputs": [
    {
     "data": {
      "text/plain": [
       "<Figure size 1000x200 with 5 Axes>"
      ],
      "image/png": "[encoded data removed]"
     },
     "metadata": {},
     "output_type": "display_data"
    },
    {
     "ename": "KeyboardInterrupt",
     "evalue": "",
     "output_type": "error",
     "traceback": [
      "\u001B[31m---------------------------------------------------------------------------\u001B[39m",
      "\u001B[31mKeyboardInterrupt\u001B[39m                         Traceback (most recent call last)",
      "\u001B[36mCell\u001B[39m\u001B[36m \u001B[39m\u001B[32mIn[5]\u001B[39m\u001B[32m, line 18\u001B[39m\n\u001B[32m     15\u001B[39m X_train, X_test, y_train, y_test = train_test_split(X, y, test_size=\u001B[32m1\u001B[39m/\u001B[32m7\u001B[39m, random_state=\u001B[32m42\u001B[39m)\n\u001B[32m     17\u001B[39m \u001B[38;5;66;03m# Train SVM\u001B[39;00m\n\u001B[32m---> \u001B[39m\u001B[32m18\u001B[39m clf = \u001B[43msvm\u001B[49m.SVC(kernel=\u001B[33m'\u001B[39m\u001B[33mlinear\u001B[39m\u001B[33m'\u001B[39m)  \u001B[38;5;66;03m# You may want to tune kernel, C, gamma\u001B[39;00m\n\u001B[32m     19\u001B[39m clf.fit(X_train, y_train)\n\u001B[32m     21\u001B[39m \u001B[38;5;66;03m# Predict & Evaluate\u001B[39;00m\n",
      "\u001B[36mFile \u001B[39m\u001B[32m_pydevd_bundle\\\\pydevd_cython_win32_312_64.pyx:1187\u001B[39m, in \u001B[36m_pydevd_bundle.pydevd_cython_win32_312_64.SafeCallWrapper.__call__\u001B[39m\u001B[34m()\u001B[39m\n",
      "\u001B[36mFile \u001B[39m\u001B[32m_pydevd_bundle\\\\pydevd_cython_win32_312_64.pyx:627\u001B[39m, in \u001B[36m_pydevd_bundle.pydevd_cython_win32_312_64.PyDBFrame.trace_dispatch\u001B[39m\u001B[34m()\u001B[39m\n",
      "\u001B[36mFile \u001B[39m\u001B[32m_pydevd_bundle\\\\pydevd_cython_win32_312_64.pyx:937\u001B[39m, in \u001B[36m_pydevd_bundle.pydevd_cython_win32_312_64.PyDBFrame.trace_dispatch\u001B[39m\u001B[34m()\u001B[39m\n",
      "\u001B[36mFile \u001B[39m\u001B[32m_pydevd_bundle\\\\pydevd_cython_win32_312_64.pyx:928\u001B[39m, in \u001B[36m_pydevd_bundle.pydevd_cython_win32_312_64.PyDBFrame.trace_dispatch\u001B[39m\u001B[34m()\u001B[39m\n",
      "\u001B[36mFile \u001B[39m\u001B[32m_pydevd_bundle\\\\pydevd_cython_win32_312_64.pyx:585\u001B[39m, in \u001B[36m_pydevd_bundle.pydevd_cython_win32_312_64.PyDBFrame.do_wait_suspend\u001B[39m\u001B[34m()\u001B[39m\n",
      "\u001B[36mFile \u001B[39m\u001B[32mC:\\Program Files\\JetBrains\\PyCharm 2025.1\\plugins\\python-ce\\helpers\\pydev\\pydevd.py:1220\u001B[39m, in \u001B[36mPyDB.do_wait_suspend\u001B[39m\u001B[34m(self, thread, frame, event, arg, send_suspend_message, is_unhandled_exception)\u001B[39m\n\u001B[32m   1217\u001B[39m         from_this_thread.append(frame_id)\n\u001B[32m   1219\u001B[39m \u001B[38;5;28;01mwith\u001B[39;00m \u001B[38;5;28mself\u001B[39m._threads_suspended_single_notification.notify_thread_suspended(thread_id, stop_reason):\n\u001B[32m-> \u001B[39m\u001B[32m1220\u001B[39m     \u001B[38;5;28;43mself\u001B[39;49m\u001B[43m.\u001B[49m\u001B[43m_do_wait_suspend\u001B[49m\u001B[43m(\u001B[49m\u001B[43mthread\u001B[49m\u001B[43m,\u001B[49m\u001B[43m \u001B[49m\u001B[43mframe\u001B[49m\u001B[43m,\u001B[49m\u001B[43m \u001B[49m\u001B[43mevent\u001B[49m\u001B[43m,\u001B[49m\u001B[43m \u001B[49m\u001B[43marg\u001B[49m\u001B[43m,\u001B[49m\u001B[43m \u001B[49m\u001B[43msuspend_type\u001B[49m\u001B[43m,\u001B[49m\u001B[43m \u001B[49m\u001B[43mfrom_this_thread\u001B[49m\u001B[43m)\u001B[49m\n",
      "\u001B[36mFile \u001B[39m\u001B[32mC:\\Program Files\\JetBrains\\PyCharm 2025.1\\plugins\\python-ce\\helpers\\pydev\\pydevd.py:1235\u001B[39m, in \u001B[36mPyDB._do_wait_suspend\u001B[39m\u001B[34m(self, thread, frame, event, arg, suspend_type, from_this_thread)\u001B[39m\n\u001B[32m   1232\u001B[39m             \u001B[38;5;28mself\u001B[39m._call_mpl_hook()\n\u001B[32m   1234\u001B[39m         \u001B[38;5;28mself\u001B[39m.process_internal_commands()\n\u001B[32m-> \u001B[39m\u001B[32m1235\u001B[39m         \u001B[43mtime\u001B[49m\u001B[43m.\u001B[49m\u001B[43msleep\u001B[49m\u001B[43m(\u001B[49m\u001B[32;43m0.01\u001B[39;49m\u001B[43m)\u001B[49m\n\u001B[32m   1237\u001B[39m \u001B[38;5;28mself\u001B[39m.cancel_async_evaluation(get_current_thread_id(thread), \u001B[38;5;28mstr\u001B[39m(\u001B[38;5;28mid\u001B[39m(frame)))\n\u001B[32m   1239\u001B[39m \u001B[38;5;66;03m# process any stepping instructions\u001B[39;00m\n",
      "\u001B[31mKeyboardInterrupt\u001B[39m: "
     ]
    }
   ],
   "execution_count": 5
  },
  {
   "cell_type": "markdown",
   "id": "6197671c",
   "metadata": {},
   "source": [
    "### 🔧 Parameters you may tune for training\n",
    "\n",
    "\n",
    "\n",
    "- ####**`C`: float, default = 1.0**  \n",
    "  Regularization parameter. The strength of the regularization is inversely proportional to $C$.  \n",
    "  Must be strictly positive. The penalty is a squared $L_2$ penalty.\n",
    "\n",
    "- **`kernel`: `'linear'`, `'poly'`, `'rbf'`, `'sigmoid'`, `'precomputed'` or callable, default = `'rbf'`**  \n",
    "  Specifies the kernel type to be used in the algorithm.  \n",
    "  If none is given, `'rbf'` will be used.  \n",
    "  If a callable is given, it is used to pre-compute the kernel matrix from data matrices;  \n",
    "  that matrix should be an array of shape $(n\\_samples, n\\_samples)$.  \n",
    "  For an intuitive visualization of different kernel types, see *Plot classification boundaries with different SVM Kernels*.\n",
    "\n",
    "- **`degree`: int, default = 3**  \n",
    "  Degree of the polynomial kernel function (`'poly'`). Must be non-negative.  \n",
    "  Ignored by all other kernels.\n",
    "\n",
    "- **`coef0`: float, default = 0.0**  \n",
    "  Independent term in kernel function. It is only significant in `'poly'` and `'sigmoid'`.\n",
    "\n",
    "- **`tol`: float, default = $1e-3$**  \n",
    "  Tolerance for stopping criterion.\n",
    "  \n",
    "#### Observe:\n",
    "\n",
    "- Does overfitting or underfitting occur with certain parameter choices?"
   ]
  },
  {
   "cell_type": "markdown",
   "id": "d50f48f6",
   "metadata": {},
   "source": [
    "---"
   ]
  },
  {
   "cell_type": "markdown",
   "id": "c56ce72d",
   "metadata": {},
   "source": [
    "## `sklearn.svm.SVR`\n",
    "\n",
    "**Support Vector Regression (SVR)** is an extension of Support Vector Machines (SVM) to regression tasks. Unlike linear regression, which minimizes squared errors, SVR aims to fit a function that deviates from actual targets by at most $\\epsilon$, while also being as flat as possible.\n",
    "\n",
    "#### 🧮 Optimization Objective\n",
    "\n",
    "SVR minimizes the following:\n",
    "\n",
    "$$\n",
    "\\min_{w, b, \\xi, \\xi^*} \\ \\frac{1}{2} \\|w\\|^2 + C \\sum_{i=1}^{n} (\\xi_i + \\xi_i^*)\n",
    "$$\n",
    "\n",
    "Subject to:\n",
    "\n",
    "$$\n",
    "\\begin{align*}\n",
    "y_i - (w^T x_i + b) &\\leq \\epsilon + \\xi_i \\\\\n",
    "(w^T x_i + b) - y_i &\\leq \\epsilon + \\xi_i^* \\\\\n",
    "\\xi_i, \\xi_i^* &\\geq 0\n",
    "\\end{align*}\n",
    "$$\n",
    "\n",
    "Where:\n",
    "\n",
    "- $C$ is the regularization parameter\n",
    "- $\\epsilon$ defines a margin of tolerance (called the $\\epsilon$-tube)\n",
    "- $\\xi_i$, $\\xi_i^*$ are slack variables for errors outside the $\\epsilon$-tube\n",
    "\n",
    "SVR works well when the data is noisy and you want to balance between **model complexity** and **precision tolerance**."
   ]
  },
  {
   "cell_type": "code",
   "id": "a704fa0d",
   "metadata": {
    "ExecuteTime": {
     "end_time": "2025-05-07T12:37:39.253282Z",
     "start_time": "2025-05-07T12:37:36.626494Z"
    }
   },
   "source": [
    "# import necessary libs\n",
    "import numpy as np\n",
    "import pandas as pd\n",
    "from sklearn.model_selection import train_test_split\n",
    "from sklearn.svm import SVR\n",
    "from sklearn.metrics import mean_squared_error, mean_absolute_error\n",
    "from sklearn.preprocessing import MinMaxScaler, StandardScaler\n",
    "import matplotlib.pyplot as plt"
   ],
   "outputs": [],
   "execution_count": 1
  },
  {
   "cell_type": "code",
   "id": "1e4ddb9b",
   "metadata": {
    "ExecuteTime": {
     "end_time": "2025-05-07T12:38:38.115009Z",
     "start_time": "2025-05-07T12:37:42.938073Z"
    }
   },
   "source": [
    "data_url = \"http://lib.stat.cmu.edu/datasets/boston\"\n",
    "# raw_df = pd.read_csv(data_url, sep=r\"\\s+\", skiprows=22, header=None)\n",
    "\n",
    "file_path = \"boston.txt\"\n",
    "raw_df = pd.read_csv(file_path, sep=r\"\\s+\", skiprows=22, header=None)\n",
    "\n",
    "X = np.hstack([raw_df.values[::2, :], raw_df.values[1::2, :2]])\n",
    "Y = raw_df.values[1::2, 2]\n",
    "x_train, x_test, y_train, y_test = train_test_split(X, Y, test_size=0.2, random_state=42)\n",
    "scaler = MinMaxScaler()\n",
    "norm_x_train = scaler.fit_transform(x_train)\n",
    "norm_x_test = scaler.transform(x_test)\n",
    "\n",
    "model = SVR() # you need tuning here\n",
    "model.fit(norm_x_train, y_train)\n",
    "y_pred = model.predict(norm_x_test)\n",
    "test_mse = mean_squared_error(y_test, y_pred)\n",
    "test_mae = mean_absolute_error(y_test, y_pred)\n",
    "print(f'Test MSE: {test_mse}, Test MAE: {test_mae}')"
   ],
   "outputs": [
    {
     "ename": "KeyboardInterrupt",
     "evalue": "",
     "output_type": "error",
     "traceback": [
      "\u001B[31m---------------------------------------------------------------------------\u001B[39m",
      "\u001B[31mKeyboardInterrupt\u001B[39m                         Traceback (most recent call last)",
      "\u001B[36mCell\u001B[39m\u001B[36m \u001B[39m\u001B[32mIn[2]\u001B[39m\u001B[32m, line 14\u001B[39m\n\u001B[32m     11\u001B[39m norm_x_train = scaler.fit_transform(x_train)\n\u001B[32m     12\u001B[39m norm_x_test = scaler.transform(x_test)\n\u001B[32m---> \u001B[39m\u001B[32m14\u001B[39m model = SVR() \u001B[38;5;66;03m# you need tuning here\u001B[39;00m\n\u001B[32m     15\u001B[39m model.fit(norm_x_train, y_train)\n\u001B[32m     16\u001B[39m y_pred = model.predict(norm_x_test)\n",
      "\u001B[36mFile \u001B[39m\u001B[32m_pydevd_bundle\\\\pydevd_cython_win32_312_64.pyx:1187\u001B[39m, in \u001B[36m_pydevd_bundle.pydevd_cython_win32_312_64.SafeCallWrapper.__call__\u001B[39m\u001B[34m()\u001B[39m\n",
      "\u001B[36mFile \u001B[39m\u001B[32m_pydevd_bundle\\\\pydevd_cython_win32_312_64.pyx:627\u001B[39m, in \u001B[36m_pydevd_bundle.pydevd_cython_win32_312_64.PyDBFrame.trace_dispatch\u001B[39m\u001B[34m()\u001B[39m\n",
      "\u001B[36mFile \u001B[39m\u001B[32m_pydevd_bundle\\\\pydevd_cython_win32_312_64.pyx:937\u001B[39m, in \u001B[36m_pydevd_bundle.pydevd_cython_win32_312_64.PyDBFrame.trace_dispatch\u001B[39m\u001B[34m()\u001B[39m\n",
      "\u001B[36mFile \u001B[39m\u001B[32m_pydevd_bundle\\\\pydevd_cython_win32_312_64.pyx:928\u001B[39m, in \u001B[36m_pydevd_bundle.pydevd_cython_win32_312_64.PyDBFrame.trace_dispatch\u001B[39m\u001B[34m()\u001B[39m\n",
      "\u001B[36mFile \u001B[39m\u001B[32m_pydevd_bundle\\\\pydevd_cython_win32_312_64.pyx:585\u001B[39m, in \u001B[36m_pydevd_bundle.pydevd_cython_win32_312_64.PyDBFrame.do_wait_suspend\u001B[39m\u001B[34m()\u001B[39m\n",
      "\u001B[36mFile \u001B[39m\u001B[32mC:\\Program Files\\JetBrains\\PyCharm 2025.1\\plugins\\python-ce\\helpers\\pydev\\pydevd.py:1220\u001B[39m, in \u001B[36mPyDB.do_wait_suspend\u001B[39m\u001B[34m(self, thread, frame, event, arg, send_suspend_message, is_unhandled_exception)\u001B[39m\n\u001B[32m   1217\u001B[39m         from_this_thread.append(frame_id)\n\u001B[32m   1219\u001B[39m \u001B[38;5;28;01mwith\u001B[39;00m \u001B[38;5;28mself\u001B[39m._threads_suspended_single_notification.notify_thread_suspended(thread_id, stop_reason):\n\u001B[32m-> \u001B[39m\u001B[32m1220\u001B[39m     \u001B[38;5;28;43mself\u001B[39;49m\u001B[43m.\u001B[49m\u001B[43m_do_wait_suspend\u001B[49m\u001B[43m(\u001B[49m\u001B[43mthread\u001B[49m\u001B[43m,\u001B[49m\u001B[43m \u001B[49m\u001B[43mframe\u001B[49m\u001B[43m,\u001B[49m\u001B[43m \u001B[49m\u001B[43mevent\u001B[49m\u001B[43m,\u001B[49m\u001B[43m \u001B[49m\u001B[43marg\u001B[49m\u001B[43m,\u001B[49m\u001B[43m \u001B[49m\u001B[43msuspend_type\u001B[49m\u001B[43m,\u001B[49m\u001B[43m \u001B[49m\u001B[43mfrom_this_thread\u001B[49m\u001B[43m)\u001B[49m\n",
      "\u001B[36mFile \u001B[39m\u001B[32mC:\\Program Files\\JetBrains\\PyCharm 2025.1\\plugins\\python-ce\\helpers\\pydev\\pydevd.py:1235\u001B[39m, in \u001B[36mPyDB._do_wait_suspend\u001B[39m\u001B[34m(self, thread, frame, event, arg, suspend_type, from_this_thread)\u001B[39m\n\u001B[32m   1232\u001B[39m             \u001B[38;5;28mself\u001B[39m._call_mpl_hook()\n\u001B[32m   1234\u001B[39m         \u001B[38;5;28mself\u001B[39m.process_internal_commands()\n\u001B[32m-> \u001B[39m\u001B[32m1235\u001B[39m         \u001B[43mtime\u001B[49m\u001B[43m.\u001B[49m\u001B[43msleep\u001B[49m\u001B[43m(\u001B[49m\u001B[32;43m0.01\u001B[39;49m\u001B[43m)\u001B[49m\n\u001B[32m   1237\u001B[39m \u001B[38;5;28mself\u001B[39m.cancel_async_evaluation(get_current_thread_id(thread), \u001B[38;5;28mstr\u001B[39m(\u001B[38;5;28mid\u001B[39m(frame)))\n\u001B[32m   1239\u001B[39m \u001B[38;5;66;03m# process any stepping instructions\u001B[39;00m\n",
      "\u001B[31mKeyboardInterrupt\u001B[39m: "
     ]
    }
   ],
   "execution_count": 2
  },
  {
   "cell_type": "markdown",
   "id": "ff863f91",
   "metadata": {},
   "source": [
    "Plot actual vs predicted values. Are there consistent under- or over-estimations?"
   ]
  },
  {
   "cell_type": "code",
   "id": "0e369cd5",
   "metadata": {
    "ExecuteTime": {
     "end_time": "2025-05-06T20:31:00.550517Z",
     "start_time": "2025-05-06T20:31:00.492747Z"
    }
   },
   "source": [
    "# plot actual vs predicted values\n",
    "import matplotlib.pyplot as plt\n",
    "\n",
    "plt.scatter(y_test, y_pred, alpha=0.7)\n",
    "plt.plot([y_test.min(), y_test.max()], [y_test.min(), y_test.max()], 'r--')\n",
    "plt.xlabel(\"Actual\")\n",
    "plt.ylabel(\"Predicted\")\n",
    "plt.title(\"SVR Prediction vs Actual\")\n",
    "plt.grid(True)\n",
    "plt.show()"
   ],
   "outputs": [
    {
     "data": {
      "text/plain": [
       "<Figure size 640x480 with 1 Axes>"
      ],
      "image/png": "[encoded data removed]"
     },
     "metadata": {},
     "output_type": "display_data"
    }
   ],
   "execution_count": 12
  },
  {
   "cell_type": "markdown",
   "id": "b89893cc",
   "metadata": {},
   "source": [
    "### 🔧 Parameters you may tune for training\n",
    "\n",
    "\n",
    "\n",
    "- **`kernel`: `'linear'`, `'poly'`, `'rbf'`, `'sigmoid'`, `'precomputed'` or callable, default = `'rbf'`**  \n",
    "  Specifies the kernel type to be used in the algorithm.  \n",
    "  If none is given, `'rbf'` will be used.  \n",
    "  If a callable is given, it is used to precompute the kernel matrix.\n",
    "\n",
    "- **`degree`: int, default = 3**  \n",
    "  Degree of the polynomial kernel function (`'poly'`). Must be non-negative.  \n",
    "  Ignored by all other kernels.\n",
    "\n",
    "- **`coef0`: float, default = 0.0**  \n",
    "  Independent term in kernel function. It is only significant in `'poly'` and `'sigmoid'`.\n",
    "\n",
    "- **`tol`: float, default = $1e-3$**  \n",
    "  Tolerance for stopping criterion.\n",
    "\n",
    "- **`C`: float, default = 1.0**  \n",
    "  Regularization parameter. The strength of the regularization is inversely proportional to $C$.  \n",
    "  Must be strictly positive. The penalty is a squared $L_2$ penalty.\n",
    "\n",
    "- **`epsilon`: float, default = 0.1**  \n",
    "  Epsilon in the epsilon-SVR model.  \n",
    "  It specifies the epsilon-tube within which no penalty is associated in the training loss function  \n",
    "  with points predicted within a distance epsilon from the actual value.  \n",
    "  Must be non-negative."
   ]
  },
  {
   "cell_type": "code",
   "execution_count": null,
   "id": "f8231bf9",
   "metadata": {},
   "outputs": [],
   "source": []
  }
 ],
 "metadata": {
  "kernelspec": {
   "display_name": "Python 3 (ipykernel)",
   "language": "python",
   "name": "python3"
  },
  "language_info": {
   "codemirror_mode": {
    "name": "ipython",
    "version": 3
   },
   "file_extension": ".py",
   "mimetype": "text/x-python",
   "name": "python",
   "nbconvert_exporter": "python",
   "pygments_lexer": "ipython3",
   "version": "3.9.7"
  }
 },
 "nbformat": 4,
 "nbformat_minor": 5
}
